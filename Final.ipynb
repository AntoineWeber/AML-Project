{
 "cells": [
  {
   "cell_type": "markdown",
   "metadata": {},
   "source": [
    "# HighD dataset analysis"
   ]
  },
  {
   "cell_type": "code",
   "execution_count": 1,
   "metadata": {},
   "outputs": [],
   "source": [
    "#TO BE RUN TWICE TO ACTIVATE THE INTERACTIVE PLOTS\n",
    "\n",
    "import scipy.io\n",
    "import numpy as np\n",
    "from sklearn import manifold, datasets\n",
    "from sklearn.linear_model import SGDClassifier\n",
    "from sklearn.svm import SVC\n",
    "from sklearn.mixture import GaussianMixture\n",
    "from mpl_toolkits.mplot3d import Axes3D\n",
    "import time\n",
    "from matplotlib.pyplot import scatter\n",
    "import matplotlib.pyplot as plt\n",
    "from matplotlib.pyplot import subplots_adjust\n",
    "import matplotlib\n",
    "from tqdm import tqdm\n",
    "\n",
    "%matplotlib notebook"
   ]
  },
  {
   "cell_type": "code",
   "execution_count": 2,
   "metadata": {},
   "outputs": [
    {
     "name": "stdout",
     "output_type": "stream",
     "text": [
      "(8671, 784)\n",
      "(8671,)\n"
     ]
    },
    {
     "data": {
      "image/png": "[encoded data removed]",
      "text/plain": [
       "<matplotlib.figure.Figure at 0x10433ac18>"
      ]
     },
     "metadata": {},
     "output_type": "display_data"
    }
   ],
   "source": [
    "silhouette = scipy.io.loadmat('silhouette.mat')\n",
    "data = silhouette['X']\n",
    "labels = silhouette['Y'].transpose().ravel()\n",
    "\n",
    "print(np.shape(data))\n",
    "print(np.shape(labels))\n",
    "\n",
    "fig = plt.figure(0)\n",
    "ax1 = fig.add_subplot(1, 2, 1)\n",
    "ax1.imshow(np.transpose(np.reshape(data[500,:],(28,28))))\n",
    "ax2 = fig.add_subplot(1, 2, 2)\n",
    "ax2.imshow(np.transpose(np.reshape(data[300,:],(28,28))))"
   ]
  },
  {
   "cell_type": "code",
   "execution_count": 3,
   "metadata": {},
   "outputs": [
    {
     "name": "stdout",
     "output_type": "stream",
     "text": [
      "(2906, 784)\n",
      "(2906,)\n"
     ]
    }
   ],
   "source": [
    "# take only the first 10 classes\n",
    "\n",
    "data_new = data[labels==1,:]\n",
    "\n",
    "for label in range(2,11):\n",
    "    data_new = np.concatenate((data_new, data[labels==label,:]), axis=0)\n",
    "    \n",
    "labels_new = labels[0:np.size(data_new,0)]\n",
    "\n",
    "print(np.shape(data_new))\n",
    "print(np.shape(labels_new))"
   ]
  },
  {
   "cell_type": "code",
   "execution_count": null,
   "metadata": {},
   "outputs": [],
   "source": [
    "method = ['hessian','standard']\n",
    "embed = manifold.LocallyLinearEmbedding(n_neighbors = 300 , n_components=3,\n",
    "                                                             eigen_solver='dense',\n",
    "                                                             method=method[0])\n",
    "projected_hess = embed.fit_transform(data_new)\n",
    "embed = manifold.LocallyLinearEmbedding(n_neighbors = 300 , n_components=3,\n",
    "                                                             eigen_solver='dense',\n",
    "                                                             method=method[1])\n",
    "projected_std = embed.fit_transform(data_new)"
   ]
  },
  {
   "cell_type": "code",
   "execution_count": null,
   "metadata": {},
   "outputs": [],
   "source": [
    "fig = plt.figure(figsize = plt.figaspect(0.5))\n",
    "matplotlib.rcParams.update({'font.size': 10})\n",
    "\n",
    "ax1 = fig.add_subplot(1, 2, 1, projection='3d')\n",
    "ax1.scatter(projected_hess[:,0], projected_hess[:,1],projected_hess[:,2], c=labels_new)\n",
    "plt.title('HLLE',fontsize=20)\n",
    "\n",
    "ax2 = fig.add_subplot(1, 2, 2, projection='3d')\n",
    "ax2.scatter(projected_std[:,0], projected_std[:,1],projected_std[:,2], c=labels_new)\n",
    "plt.title('LLE',fontsize=20)"
   ]
  },
  {
   "cell_type": "code",
   "execution_count": null,
   "metadata": {},
   "outputs": [],
   "source": [
    "classifier = SGDClassifier(loss='log',max_iter=100, tol=1e-5)\n",
    "start1 = time.time()\n",
    "model = classifier.fit(data_new, labels_new)\n",
    "stop1 = time.time()\n",
    "score = model.score(data_new, labels_new)\n",
    "print('Logistic Regression on the origninal space took {:0.2f} seconds to perform a train accuracy of {:0.2f}%' .format((stop1-start1), 100*score))\n",
    "\n",
    "classifier = SGDClassifier(loss='log',max_iter=100, tol=1e-5)\n",
    "start = time.time()\n",
    "model = classifier.fit(projected_hess, labels_new)\n",
    "stop = time.time()\n",
    "time1 = stop-start\n",
    "score1 = model.score(projected_hess, labels_new)\n",
    "\n",
    "start = time.time()\n",
    "model = classifier.fit(projected_std, labels_new)\n",
    "stop = time.time()\n",
    "time2 = stop-start\n",
    "score2 = model.score(projected_std, labels_new)\n",
    "\n",
    "print('With a 3D embedding using LLE and HLLE, the resulting classification accuracy on the embedded space are {:0.2f}% and {:0.2f}% respectively' .format(100*score2, 100*score1))\n",
    "print('Moreover, the classifier took {:0.2f} and {:0.2f} seconds respectively' .format(time2, time1))\n"
   ]
  },
  {
   "cell_type": "code",
   "execution_count": null,
   "metadata": {},
   "outputs": [],
   "source": [
    "\n",
    "# perform grid search on LLE only\n",
    "n_components = [20,50,100,150,200]\n",
    "neigh = [250,300,350,400]\n",
    "method = ['standard']\n",
    "scores_lleonly = np.zeros((len(neigh),len(n_components)))\n",
    "\n",
    "for idxn,neighb in enumerate(tqdm(neigh)):\n",
    "    for idxc,comp in enumerate(n_components):\n",
    "        classifier = SGDClassifier(loss='log',max_iter=100, tol=1e-5)\n",
    "\n",
    "        embed = manifold.LocallyLinearEmbedding(n_neighbors = neighb , n_components=comp,\n",
    "                                                         eigen_solver='dense',\n",
    "                                                         method=method[0])\n",
    "        classifier = SGDClassifier(loss='log',max_iter=100, tol=1e-5)\n",
    "        projected_std = embed.fit_transform(data_new)\n",
    "        model = classifier.fit(projected_std, labels_new)\n",
    "        scores_lleonly[idxn][idxc] = model.score(projected_std, labels_new)"
   ]
  },
  {
   "cell_type": "code",
   "execution_count": null,
   "metadata": {},
   "outputs": [],
   "source": [
    "matplotlib.rcParams.update({'font.size': 14})\n",
    "plt.imshow(scores_lleonly)\n",
    "\n",
    "ax = plt.gca();\n",
    "ax.set_xticks(np.arange(0, 5, 1));\n",
    "ax.set_yticks(np.arange(0, 4, 1));\n",
    "ax.set_xticklabels(n_components);\n",
    "ax.set_yticklabels(neigh);\n",
    "\n",
    "cbar = plt.colorbar()\n",
    "cbar.set_label('Classification accuracy [%]')\n",
    "plt.xlabel('Dimensionality of output space')\n",
    "plt.ylabel('Number of neighbors')\n",
    "plt.show()"
   ]
  }
 ],
 "metadata": {
  "kernelspec": {
   "display_name": "Python 3",
   "language": "python",
   "name": "python3"
  },
  "language_info": {
   "codemirror_mode": {
    "name": "ipython",
    "version": 3
   },
   "file_extension": ".py",
   "mimetype": "text/x-python",
   "name": "python",
   "nbconvert_exporter": "python",
   "pygments_lexer": "ipython3",
   "version": "3.6.4"
  }
 },
 "nbformat": 4,
 "nbformat_minor": 2
}
